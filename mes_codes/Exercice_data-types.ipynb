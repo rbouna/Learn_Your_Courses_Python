{
 "cells": [
  {
   "cell_type": "markdown",
   "metadata": {},
   "source": [
    "---\n"
   ]
  },
  {
   "cell_type": "markdown",
   "metadata": {},
   "source": [
    "# Exercice sur les data types :"
   ]
  },
  {
   "cell_type": "markdown",
   "metadata": {
    "papermill": {
     "duration": 0.024941,
     "end_time": "2022-02-15T23:56:51.990804",
     "exception": false,
     "start_time": "2022-02-15T23:56:51.965863",
     "status": "completed"
    },
    "tags": []
   },
   "source": [
    "    # Question 1\n",
    "\n",
    "    Vous avez vu comment convertir un float en un entier avec la fonction `int`. Essayez-le vous-même en exécutant la cellule de code ci-dessous."
   ]
  },
  {
   "cell_type": "code",
   "execution_count": 33,
   "metadata": {
    "execution": {
     "iopub.execute_input": "2025-02-06T23:57:40.148968Z",
     "iopub.status.busy": "2025-02-06T23:57:40.148534Z",
     "iopub.status.idle": "2025-02-06T23:57:40.154856Z",
     "shell.execute_reply": "2025-02-06T23:57:40.154026Z",
     "shell.execute_reply.started": "2025-02-06T23:57:40.148942Z"
    },
    "papermill": {
     "duration": 0.036351,
     "end_time": "2022-02-15T23:56:52.050571",
     "exception": false,
     "start_time": "2022-02-15T23:56:52.01422",
     "status": "completed"
    },
    "tags": [],
    "trusted": true
   },
   "outputs": [
    {
     "name": "stdout",
     "output_type": "stream",
     "text": [
      "1.0\n",
      "<class 'float'>\n",
      "1\n",
      "<class 'int'>\n"
     ]
    }
   ],
   "source": [
    "# Define a float\n",
    "y = 1.\n",
    "print(y)\n",
    "print(type(y))\n",
    "\n",
    "# Convert float to integer with the int function\n",
    "z = int(y)\n",
    "print(z)\n",
    "print(type(z))"
   ]
  },
  {
   "cell_type": "markdown",
   "metadata": {
    "papermill": {
     "duration": 0.015746,
     "end_time": "2022-02-15T23:56:52.082635",
     "exception": false,
     "start_time": "2022-02-15T23:56:52.066889",
     "status": "completed"
    },
    "tags": []
   },
   "source": [
    "    Dans ce cas, le float que vous utilisez n'a pas de chiffres après la décimale.\n",
    "    - Mais que se passe-t-il lorsque vous essayez de convertir un float avec une partie fractionnaire en un entier ?\n",
    "    - Comment le résultat de la fonction `int` change-t-il pour les nombres positifs et négatifs ?\n",
    "\n",
    "    Utilisez la cellule de code suivante pour étudier et répondre à ces questions. N'hésitez pas à ajouter ou supprimer des lignes de code : c'est votre espace de travail !"
   ]
  },
  {
   "cell_type": "code",
   "execution_count": 34,
   "metadata": {
    "execution": {
     "iopub.execute_input": "2025-02-06T23:57:40.156708Z",
     "iopub.status.busy": "2025-02-06T23:57:40.156438Z",
     "iopub.status.idle": "2025-02-06T23:57:40.171868Z",
     "shell.execute_reply": "2025-02-06T23:57:40.171092Z",
     "shell.execute_reply.started": "2025-02-06T23:57:40.156674Z"
    },
    "papermill": {
     "duration": 0.023189,
     "end_time": "2022-02-15T23:56:52.121169",
     "exception": false,
     "start_time": "2022-02-15T23:56:52.09798",
     "status": "completed"
    },
    "tags": [],
    "trusted": true
   },
   "outputs": [
    {
     "name": "stdout",
     "output_type": "stream",
     "text": [
      "1\n",
      "1\n",
      "-3\n",
      "-2\n"
     ]
    }
   ],
   "source": [
    "# Uncomment and run this code to get started!\n",
    "print(int(1.2321))\n",
    "print(int(1.747))\n",
    "print(int(-3.94535))\n",
    "print(int(-2.19774))"
   ]
  },
  {
   "cell_type": "markdown",
   "metadata": {},
   "source": [
    "# Rappel : \n",
    "    Les nombres flottants négatifs sont toujours arrondis à l'entier supérieur le plus proche \n",
    "    (par exemple, -1,1 et -1,9 sont arrondis à -1). Les nombres flottants positifs sont toujours arrondis \n",
    "    à l'entier inférieur le plus proche (par exemple, 2,1 et 2,9 sont arrondis à 2).\n"
   ]
  },
  {
   "cell_type": "markdown",
   "metadata": {
    "papermill": {
     "duration": 0.015044,
     "end_time": "2022-02-15T23:56:52.153268",
     "exception": false,
     "start_time": "2022-02-15T23:56:52.138224",
     "status": "completed"
    },
    "tags": []
   },
   "source": [
    "Once you have an answer, run the code cell below to see the solution.  Viewing the solution will give you credit for answering the problem."
   ]
  },
  {
   "cell_type": "markdown",
   "metadata": {
    "papermill": {
     "duration": 0.015624,
     "end_time": "2022-02-15T23:56:52.222102",
     "exception": false,
     "start_time": "2022-02-15T23:56:52.206478",
     "status": "completed"
    },
    "tags": []
   },
   "source": [
    "# Question 2\n",
    "\n",
    "    Dans le cours precédent, vous avez découvert les booléens (qui peuvent prendre la valeur « True » ou « False »), \n",
    "    en plus des entiers, des flottants et des chaînes. Pour cette question, votre objectif est de déterminer ce \n",
    "    qui se passe lorsque vous multipliez un booléen par l'un de ces types de données. Plus précisément,\n",
    "    - Que se passe-t-il lorsque vous multipliez un entier ou un flottant par « True » ? Que se passe-t-il\n",
    "    lorsque vous les multipliez par « False » ? Comment la réponse change-t-elle si les nombres sont positifs ou négatifs ?\n",
    "    - Que se passe-t-il lorsque vous multipliez une chaîne par « True » ? Par « False » ?\n",
    "\n",
    "    Utilisez la cellule de code suivante pour votre enquête."
   ]
  },
  {
   "cell_type": "code",
   "execution_count": 36,
   "metadata": {
    "execution": {
     "iopub.execute_input": "2025-02-06T23:57:40.191466Z",
     "iopub.status.busy": "2025-02-06T23:57:40.191133Z",
     "iopub.status.idle": "2025-02-06T23:57:40.205325Z",
     "shell.execute_reply": "2025-02-06T23:57:40.204479Z",
     "shell.execute_reply.started": "2025-02-06T23:57:40.191433Z"
    },
    "papermill": {
     "duration": 0.026529,
     "end_time": "2022-02-15T23:56:52.26436",
     "exception": false,
     "start_time": "2022-02-15T23:56:52.237831",
     "status": "completed"
    },
    "tags": [],
    "trusted": true
   },
   "outputs": [
    {
     "name": "stdout",
     "output_type": "stream",
     "text": [
      "3\n",
      "-3.1\n",
      "<class 'str'>\n",
      "0\n"
     ]
    }
   ],
   "source": [
    "# Uncomment and run this code to get started!\n",
    "print(3 * True)\n",
    "print(-3.1 * True)\n",
    "print(type(\"abc\" * False))\n",
    "print(len(\"abc\" * False))"
   ]
  },
  {
   "cell_type": "markdown",
   "metadata": {},
   "source": [
    "# Indication : \n",
    "\n",
    "    Lorsque vous multipliez un entier ou un float par un booléen avec la valeur True, cela renvoie simplement ce même entier\n",
    "     ou float (et cela équivaut à multiplier par 1). Si vous multipliez un entier ou un float par un booléen avec la valeur\n",
    "      False, cela renvoie toujours 0. Cela est vrai pour les nombres positifs et négatifs. Si vous multipliez une chaîne par \n",
    "      un booléen avec la valeur True, cela renvoie simplement la même chaîne. Et si vous multipliez une chaîne par un booléen \n",
    "      avec la valeur False, cela renvoie une chaîne vide (ou une chaîne de longueur zéro)."
   ]
  },
  {
   "cell_type": "markdown",
   "metadata": {
    "papermill": {
     "duration": 0.024657,
     "end_time": "2022-02-15T23:56:52.423541",
     "exception": false,
     "start_time": "2022-02-15T23:56:52.398884",
     "status": "completed"
    },
    "tags": []
   },
   "source": [
    "# Question 3\n",
    "\n",
    "    Dans cette question, vous vous baserez sur votre travail de l'exercice précédent pour écrire une fonction qui estime la valeur d'une maison.\n",
    "\n",
    "    Utilisez la cellule de code suivante pour créer une fonction `get_expected_cost` qui prend en entrée trois variables :\n",
    "    - `beds` - nombre de chambres (type de données float)\n",
    "    - `baths` - nombre de salles de bains (type de données float)\n",
    "    - `has_basement` - si la maison possède ou non un sous-sol (type de données booléen)\n",
    "\n",
    "    Elle doit renvoyer le coût prévu d'une maison avec ces caractéristiques. Supposons que :\n",
    "    - le coût prévu pour une maison avec 0 chambre et 0 salle de bains, et sans sous-sol est de 80 000 USD,\n",
    "    - chaque chambre ajoute 30 000 USD au coût prévu,\n",
    "    - chaque salle de bains ajoute 10 000 USD au coût prévu, et\n",
    "    - un sous-sol ajoute 40 000 USD au coût prévu.\n",
    "\n",
    "    Par exemple,\n",
    "    - une maison avec 1 chambre, 1 salle de bain et aucun sous-sol a un coût prévu de 80 000 + 30 000 + 10 000 = 120 000. Cette valeur sera calculée avec `get_expected_cost(1, 1, False)`.\n",
    "    - une maison avec 2 chambres, 1 salle de bain et un sous-sol a un coût prévu de 80 000 + 2*30 000 + 10 000 + 40 000 = 190 000. Cette valeur sera calculée avec `get_expected_cost(2, 1, True)`.\n",
    "\n",
    "    N'oubliez pas que vous pouvez toujours obtenir un indice en supprimant le commentaire de `q3.hint()` dans la cellule de code suivant la suivante !"
   ]
  },
  {
   "cell_type": "code",
   "execution_count": 38,
   "metadata": {
    "execution": {
     "iopub.execute_input": "2025-02-06T23:57:40.225347Z",
     "iopub.status.busy": "2025-02-06T23:57:40.225013Z",
     "iopub.status.idle": "2025-02-06T23:57:40.239575Z",
     "shell.execute_reply": "2025-02-06T23:57:40.238833Z",
     "shell.execute_reply.started": "2025-02-06T23:57:40.225314Z"
    },
    "papermill": {
     "duration": 0.033124,
     "end_time": "2022-02-15T23:56:52.48129",
     "exception": false,
     "start_time": "2022-02-15T23:56:52.448166",
     "status": "completed"
    },
    "tags": [],
    "trusted": true
   },
   "outputs": [
    {
     "data": {
      "application/javascript": "parent.postMessage({\"jupyterEvent\": \"custom.exercise_interaction\", \"data\": {\"outcomeType\": 1, \"valueTowardsCompletion\": 0.2, \"interactionType\": 1, \"questionType\": 2, \"questionId\": \"3_EstimateHouseValueBool\", \"learnToolsVersion\": \"0.3.4\", \"failureMessage\": \"\", \"exceptionClass\": \"\", \"trace\": \"\"}}, \"*\")",
      "text/plain": [
       "<IPython.core.display.Javascript object>"
      ]
     },
     "metadata": {},
     "output_type": "display_data"
    },
    {
     "data": {
      "text/markdown": [
       "<span style=\"color:#33cc33\">Correct</span>"
      ],
      "text/plain": [
       "Correct"
      ]
     },
     "metadata": {},
     "output_type": "display_data"
    }
   ],
   "source": [
    "# TODO: Complete the function\n",
    "def get_expected_cost(beds, baths, has_basement):\n",
    "    value = beds*30000 + baths*10000 + has_basement*40000 + 80000\n",
    "    return value"
   ]
  },
  {
   "cell_type": "markdown",
   "metadata": {
    "papermill": {
     "duration": 0.02506,
     "end_time": "2022-02-15T23:56:52.588859",
     "exception": false,
     "start_time": "2022-02-15T23:56:52.563799",
     "status": "completed"
    },
    "tags": []
   },
   "source": [
    "# Question 4\n",
    "\n",
    "    Nous allons continuer notre étude de l'arithmétique booléenne. Pour cette question, \n",
    "    votre tâche consiste à fournir une description de ce qui se passe lorsque vous ajoutez des booléens.\n",
    "\n",
    "    Utilisez la cellule de code suivante pour votre enquête. N'hésitez pas à ajouter ou supprimer\n",
    "     des lignes de code - utilisez-la comme espace de travail !"
   ]
  },
  {
   "cell_type": "code",
   "execution_count": 40,
   "metadata": {
    "execution": {
     "iopub.execute_input": "2025-02-06T23:57:40.255674Z",
     "iopub.status.busy": "2025-02-06T23:57:40.255299Z",
     "iopub.status.idle": "2025-02-06T23:57:40.269489Z",
     "shell.execute_reply": "2025-02-06T23:57:40.268537Z",
     "shell.execute_reply.started": "2025-02-06T23:57:40.255648Z"
    },
    "papermill": {
     "duration": 0.034215,
     "end_time": "2022-02-15T23:56:52.649292",
     "exception": false,
     "start_time": "2022-02-15T23:56:52.615077",
     "status": "completed"
    },
    "tags": [],
    "trusted": true
   },
   "outputs": [
    {
     "name": "stdout",
     "output_type": "stream",
     "text": [
      "0\n",
      "1\n",
      "1\n",
      "2\n",
      "3\n"
     ]
    }
   ],
   "source": [
    "print(False + False)\n",
    "print(True + False)\n",
    "print(False + True)\n",
    "print(True + True)\n",
    "print(False + True + True + True)"
   ]
  },
  {
   "cell_type": "markdown",
   "metadata": {
    "papermill": {
     "duration": 0.025079,
     "end_time": "2022-02-15T23:56:52.700169",
     "exception": false,
     "start_time": "2022-02-15T23:56:52.67509",
     "status": "completed"
    },
    "tags": []
   },
   "source": [
    "Once you have an answer, run the code cell below to see the solution.  Viewing the solution will give you credit for answering the problem."
   ]
  },
  {
   "cell_type": "markdown",
   "metadata": {},
   "source": [
    "# Indication : \n",
    "\n",
    "    Lorsque vous ajoutez des booléens, l’ajout de False équivaut à l’ajout de 0, et l’ajout de True équivaut à l’ajout de 1."
   ]
  },
  {
   "cell_type": "markdown",
   "metadata": {
    "papermill": {
     "duration": 0.024396,
     "end_time": "2022-02-15T23:56:52.81114",
     "exception": false,
     "start_time": "2022-02-15T23:56:52.786744",
     "status": "completed"
    },
    "tags": []
   },
   "source": [
    "# 🌶️ Question 5\n",
    "\n",
    "    Vous possédez une boutique en ligne où vous vendez des bagues avec des gravures personnalisées. Vous proposez des bagues en plaqué or et en or massif.\n",
    "    - Les bagues en plaqué or ont un coût de base de 50 $ et vous facturez 7 $ par unité gravée.\n",
    "    - Les bagues en or massif ont un coût de base de 100 $ et vous facturez 10 $ par unité gravée.\n",
    "    - Les espaces et la ponctuation sont comptés comme des unités gravées.\n",
    "\n",
    "    Écrivez une fonction `cost_of_project()` qui prend deux arguments :\n",
    "    - `engraving` - une chaîne Python avec le texte de la gravure\n",
    "    - `solid_gold` - un booléen qui indique si la bague est en or massif\n",
    "\n",
    "    Elle doit renvoyer le coût du projet. Cette question devrait être assez difficile et vous aurez peut-être besoin d'un indice."
   ]
  },
  {
   "cell_type": "code",
   "execution_count": 55,
   "metadata": {
    "execution": {
     "iopub.execute_input": "2025-02-07T00:26:02.970362Z",
     "iopub.status.busy": "2025-02-07T00:26:02.970016Z",
     "iopub.status.idle": "2025-02-07T00:26:02.978785Z",
     "shell.execute_reply": "2025-02-07T00:26:02.977926Z",
     "shell.execute_reply.started": "2025-02-07T00:26:02.970338Z"
    },
    "papermill": {
     "duration": 0.034931,
     "end_time": "2022-02-15T23:56:52.871015",
     "exception": false,
     "start_time": "2022-02-15T23:56:52.836084",
     "status": "completed"
    },
    "tags": [],
    "trusted": true
   },
   "outputs": [
    {
     "data": {
      "application/javascript": "parent.postMessage({\"jupyterEvent\": \"custom.exercise_interaction\", \"data\": {\"outcomeType\": 1, \"valueTowardsCompletion\": 0.2, \"interactionType\": 1, \"questionType\": 2, \"questionId\": \"5_CustomEngravings\", \"learnToolsVersion\": \"0.3.4\", \"failureMessage\": \"\", \"exceptionClass\": \"\", \"trace\": \"\"}}, \"*\")",
      "text/plain": [
       "<IPython.core.display.Javascript object>"
      ]
     },
     "metadata": {},
     "output_type": "display_data"
    },
    {
     "data": {
      "text/markdown": [
       "<span style=\"color:#33cc33\">Correct</span>"
      ],
      "text/plain": [
       "Correct"
      ]
     },
     "metadata": {},
     "output_type": "display_data"
    }
   ],
   "source": [
    "def cost_of_project(engraving, solid_gold):\n",
    "    cost = solid_gold*(100 + 10*len(engraving)) + (not solid_gold)*(50 + 7*len(engraving))\n",
    "    return cost"
   ]
  },
  {
   "cell_type": "markdown",
   "metadata": {
    "papermill": {
     "duration": 0.025442,
     "end_time": "2022-02-15T23:56:52.981178",
     "exception": false,
     "start_time": "2022-02-15T23:56:52.955736",
     "status": "completed"
    },
    "tags": []
   },
   "source": [
    "    Exécutez la cellule de code suivante pour calculer le coût de la gravure « Charlie+Denver » sur une bague en or massif."
   ]
  },
  {
   "cell_type": "code",
   "execution_count": 56,
   "metadata": {
    "execution": {
     "iopub.execute_input": "2025-02-07T00:26:13.295729Z",
     "iopub.status.busy": "2025-02-07T00:26:13.295377Z",
     "iopub.status.idle": "2025-02-07T00:26:13.300932Z",
     "shell.execute_reply": "2025-02-07T00:26:13.299891Z",
     "shell.execute_reply.started": "2025-02-07T00:26:13.295694Z"
    },
    "papermill": {
     "duration": 0.033363,
     "end_time": "2022-02-15T23:56:53.041309",
     "exception": false,
     "start_time": "2022-02-15T23:56:53.007946",
     "status": "completed"
    },
    "tags": [],
    "trusted": true
   },
   "outputs": [
    {
     "name": "stdout",
     "output_type": "stream",
     "text": [
      "240\n"
     ]
    }
   ],
   "source": [
    "project_one = cost_of_project(\"Charlie+Denver\", True)\n",
    "print(project_one)"
   ]
  },
  {
   "cell_type": "markdown",
   "metadata": {
    "papermill": {
     "duration": 0.025504,
     "end_time": "2022-02-15T23:56:53.093394",
     "exception": false,
     "start_time": "2022-02-15T23:56:53.06789",
     "status": "completed"
    },
    "tags": []
   },
   "source": [
    "    Utilisez la cellule de code suivante pour calculer le coût de la gravure « 08/10/2000 » sur une bague plaquée or.   "
   ]
  },
  {
   "cell_type": "code",
   "execution_count": 57,
   "metadata": {
    "execution": {
     "iopub.execute_input": "2025-02-07T00:26:56.909268Z",
     "iopub.status.busy": "2025-02-07T00:26:56.908926Z",
     "iopub.status.idle": "2025-02-07T00:26:56.914221Z",
     "shell.execute_reply": "2025-02-07T00:26:56.913260Z",
     "shell.execute_reply.started": "2025-02-07T00:26:56.909242Z"
    },
    "papermill": {
     "duration": 0.03374,
     "end_time": "2022-02-15T23:56:53.154559",
     "exception": false,
     "start_time": "2022-02-15T23:56:53.120819",
     "status": "completed"
    },
    "tags": [],
    "trusted": true
   },
   "outputs": [
    {
     "name": "stdout",
     "output_type": "stream",
     "text": [
      "120\n"
     ]
    }
   ],
   "source": [
    "project_two = cost_of_project(\"08/10/2000\", False)\n",
    "print(project_two)"
   ]
  },
  {
   "cell_type": "markdown",
   "metadata": {},
   "source": [
    "---"
   ]
  }
 ],
 "metadata": {
  "kaggle": {
   "accelerator": "none",
   "dataSources": [],
   "isGpuEnabled": false,
   "isInternetEnabled": false,
   "language": "python",
   "sourceType": "notebook"
  },
  "kernelspec": {
   "display_name": "Python 3",
   "language": "python",
   "name": "python3"
  },
  "language_info": {
   "codemirror_mode": {
    "name": "ipython",
    "version": 3
   },
   "file_extension": ".py",
   "mimetype": "text/x-python",
   "name": "python",
   "nbconvert_exporter": "python",
   "pygments_lexer": "ipython3",
   "version": "3.10.12"
  },
  "papermill": {
   "default_parameters": {},
   "duration": 15.996115,
   "end_time": "2022-02-15T23:56:55.998786",
   "environment_variables": {},
   "exception": null,
   "input_path": "__notebook__.ipynb",
   "output_path": "__notebook__.ipynb",
   "parameters": {},
   "start_time": "2022-02-15T23:56:40.002671",
   "version": "2.3.3"
  }
 },
 "nbformat": 4,
 "nbformat_minor": 4
}
